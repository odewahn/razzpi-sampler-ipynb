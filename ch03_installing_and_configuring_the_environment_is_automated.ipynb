{
  "metadata": {
    "name": "Installing and configuring the environment is automated in the code, rather than a manual process run by a systems group."
  },
  "nbformat": 3,
  "nbformat_minor": 0,
  "worksheets": [
    {
      "cells": [
        {
          "cell_type": "heading",
          "level": 1,
          "metadata": {
          },
          "source": "Installing and configuring the environment is automated in the code, rather than a manual process run by a systems group."
        },
        {
          "cell_type": "markdown",
          "metadata": {
          },
          "source": "A key idea (maybe _the_ key idea) of devops is that the environment in which your code will run should be modeled as code, and not be some separate thing that is a black box. (And, as we get a bit further down the stack, should be versioned with the code, as well.) It seems pretty basic, but the idea is that you should have a “recipe” that allows you to recreate the environment at any moment. Some of the key parts of managing the environment include:"
        },
        {
          "cell_type": "markdown",
          "metadata": {
          },
          "source": "<ul>\n<li>\n<em>General configuration</em>. General configuration includes setting up the basic requirements for the app to even run -- things like ensuring that whatever directory it will live in actually exists, creating the user a service will run as, specifying where log files should be stored, exposing (or blocking) the proper ports, setting any required permissions, installing any license or cert files, updating packages, and on and on. In short, anything that an app needs at the basic operating system level.</li>\n\t<li>\n<em>Installation of the application stack</em>. If you’re writing a Rails app, for example, you’ll need to have the required versions of Ruby, Rails, bundler, and anything else you need. The same goes for any other stack.</li>\n\t<li>\n<em>Installation and configuration of the required backing services</em>. The <a data-original-title=\"\" href=\"http://12factor.net\" title=\"\">12 Factor App</a> describes <a data-original-title=\"\" href=\"http://12factor.net/backing-services\" title=\"\">backing services</a> as “any service the app consumes over the network as part of its normal operation. Examples include datastores (such as MySQL or CouchDB), messaging/queueing systems (such as RabbitMQ or Beanstalkd), SMTP services for outbound email (such as Postfix), and caching systems (such as Memcached).” Backing services can also include 3rd party services, like Amazon AWS (SQS, dynamodb etc), <a href=\"http://developer.github.com/v3/\">GitHub</a>, <a href=\"https://dev.twitter.com/\">Twitter</a>, <a href=\"https://www.parse.com/\">Parse</a>, and a host of other services. Ideally, the “code for a twelve-factor app makes no distinction between local and third party services.”</li>\n</ul>\n"
        },
        {
          "cell_type": "markdown",
          "metadata": {
          },
          "source": " "
        },
        {
          "cell_type": "markdown",
          "metadata": {
          },
          "source": "<table border=\"1\" cellpadding=\"1\" cellspacing=\"1\" style=\"width: 95%;\">\n<thead><tr>\n<th scope=\"col\"> </th>\n\t\t\t<th scope=\"col\"> </th>\n\t\t\t<th scope=\"col\"> </th>\n\t\t</tr></thead>\n<tbody>\n<tr>\n<td>chef</td>\n\t\t\t<td> </td>\n\t\t\t<td> </td>\n\t\t</tr>\n<tr>\n<td>puppet</td>\n\t\t\t<td> </td>\n\t\t\t<td> </td>\n\t\t</tr>\n<tr>\n<td>ansible</td>\n\t\t\t<td> </td>\n\t\t\t<td> </td>\n\t\t</tr>\n<tr>\n<td>salt</td>\n\t\t\t<td> </td>\n\t\t\t<td> </td>\n\t\t</tr>\n<tr>\n<td>dockerfile</td>\n\t\t\t<td> </td>\n\t\t\t<td> </td>\n\t\t</tr>\n<tr>\n<td> </td>\n\t\t\t<td> </td>\n\t\t\t<td> </td>\n\t\t</tr>\n<tr>\n<td> </td>\n\t\t\t<td> </td>\n\t\t\t<td> </td>\n\t\t</tr>\n<tr>\n<td> </td>\n\t\t\t<td> </td>\n\t\t\t<td> </td>\n\t\t</tr>\n<tr>\n<td> </td>\n\t\t\t<td> </td>\n\t\t\t<td> </td>\n\t\t</tr>\n</tbody>\n</table>\n"
        },
        {
          "cell_type": "markdown",
          "metadata": {
          },
          "source": " "
        }
      ],
      "metadata": {
      }
    }
  ]
}