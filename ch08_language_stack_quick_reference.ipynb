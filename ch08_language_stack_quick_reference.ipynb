{
  "metadata": {
    "name": "Language stack quick reference"
  },
  "nbformat": 3,
  "nbformat_minor": 0,
  "worksheets": [
    {
      "cells": [
        {
          "cell_type": "heading",
          "level": 1,
          "metadata": {
          },
          "source": "Language stack quick reference"
        },
        {
          "cell_type": "markdown",
          "metadata": {
          },
          "source": "No language is an island.  Rather, every successful language (Ruby, Python, etc) comes with an ecosystem of tools and frameworks.  The goal of the table below is to map some the key elements in these language ecosystems so that you can quickly cross reference an unfamiliar stack against one you’re familiar with.  "
        },
        {
          "cell_type": "markdown",
          "metadata": {
          },
          "source": "Why would you care, you ask?  Well, even if you don’t need to know a language in depth, you still might want to install and use some great open source package, so it helps to have an idea of what is what.  This is not meant to be an exhaustive list, but just an overview of the biggies in each ecosystem."
        },
        {
          "cell_type": "markdown",
          "metadata": {
          },
          "source": " "
        },
        {
          "cell_type": "markdown",
          "metadata": {
          },
          "source": "<table border=\"1\" cellpadding=\"1\" cellspacing=\"1\" style=\"width: 95%;\">\n<thead><tr>\n<th scope=\"col\"> </th>\n\t\t\t<th scope=\"col\">Key Frameworks</th>\n\t\t\t<th scope=\"col\">Package Manager</th>\n\t\t\t<th scope=\"col\">Package Index</th>\n\t\t\t<th scope=\"col\">Testing Frameworks</th>\n\t\t</tr></thead>\n<tbody>\n<tr>\n<td>Ruby</td>\n\t\t\t<td>\n\t\t\t<ul>\n<li><a data-original-title=\"\" href=\"http://rubyonrails.org/\" title=\"\">Rails</a></li>\n\t\t\t\t<li><a href=\"http://www.sinatrarb.com/\">Sinatra</a></li>\n\t\t\t</ul>\n</td>\n\t\t\t<td>\n\t\t\t<ul>\n<li>gem</li>\n\t\t\t\t<li><a href=\"http://bundler.io/\">bundler</a></li>\n\t\t\t</ul>\n</td>\n\t\t\t<td><a href=\"http://rubygems.org/\">rubygems</a></td>\n\t\t\t<td>\n\t\t\t<ul>\n<li><a href=\"https://github.com/thoughtbot/factory_girl\">factory_girl</a></li>\n\t\t\t\t<li> </li>\n\t\t\t</ul>\n</td>\n\t\t</tr>\n<tr>\n<td>Python</td>\n\t\t\t<td>\n\t\t\t<ul>\n<li><a href=\"https://www.djangoproject.com/\">django</a></li>\n\t\t\t\t<li><a href=\"http://flask.pocoo.org/\">flask</a></li>\n\t\t\t</ul>\n</td>\n\t\t\t<td>\n\t\t\t<ul>\n<li><a href=\"https://pypi.python.org/pypi/setuptools\">setup_tools</a></li>\n\t\t\t\t<li><a href=\"https://pypi.python.org/pypi/pip\">pip</a></li>\n\t\t\t</ul>\n</td>\n\t\t\t<td> </td>\n\t\t\t<td> </td>\n\t\t</tr>\n<tr>\n<td>node</td>\n\t\t\t<td>\n\t\t\t<ul>\n<li><a href=\"http://expressjs.com/\">express</a></li>\n\t\t\t\t<li><a href=\"https://www.meteor.com/\">meteor</a></li>\n\t\t\t</ul>\n</td>\n\t\t\t<td>\n\t\t\t<ul>\n<li>npm</li>\n\t\t\t</ul>\n</td>\n\t\t\t<td>\n\t\t\t<ul>\n<li><a href=\"https://npmjs.org/\">npmjs</a></li>\n\t\t\t</ul>\n</td>\n\t\t\t<td> </td>\n\t\t</tr>\n<tr>\n<td>Java</td>\n\t\t\t<td> </td>\n\t\t\t<td> </td>\n\t\t\t<td> </td>\n\t\t\t<td> </td>\n\t\t</tr>\n<tr>\n<td>...</td>\n\t\t\t<td> </td>\n\t\t\t<td> </td>\n\t\t\t<td> </td>\n\t\t\t<td> </td>\n\t\t</tr>\n</tbody>\n</table>\n"
        },
        {
          "cell_type": "markdown",
          "metadata": {
          },
          "source": " "
        }
      ],
      "metadata": {
      }
    }
  ]
}