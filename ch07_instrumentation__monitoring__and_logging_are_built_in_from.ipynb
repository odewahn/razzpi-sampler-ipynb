{
  "metadata": {
    "name": "Instrumentation, monitoring, and logging are built in from the start."
  },
  "nbformat": 3,
  "nbformat_minor": 0,
  "worksheets": [
    {
      "cells": [
        {
          "cell_type": "heading",
          "level": 1,
          "metadata": {
          },
          "source": "Instrumentation, monitoring, and logging are built in from the start."
        },
        {
          "cell_type": "markdown",
          "metadata": {
          },
          "source": " "
        },
        {
          "cell_type": "markdown",
          "metadata": {
          },
          "source": "The monitoring infrastructure is perhaps the most foreign element in the devops stack.  Of all the parts of the software infrastructure, this was perhaps the most opaque.  A disk would fill up, the monitoring system would alert the systems group, and they would quietly fix it without the developer being any the wiser."
        },
        {
          "cell_type": "markdown",
          "metadata": {
          },
          "source": "However, as more of the traditional admin functions spread to other parts of the organization, there’s increasing need for developers to view the monitoring infrastructure as just another part of the app.  In addition to providing the sorts of critical alerts on failures, many monitoring tools are tailored to the application stack and can be used to pinpoint performance bottlenecks.  "
        },
        {
          "cell_type": "markdown",
          "metadata": {
          },
          "source": "Here are some of the key tools.  "
        },
        {
          "cell_type": "markdown",
          "metadata": {
          },
          "source": " "
        },
        {
          "cell_type": "markdown",
          "metadata": {
          },
          "source": "<table border=\"1\" cellpadding=\"1\" cellspacing=\"1\" style=\"width: 95%;\">\n<thead><tr>\n<th scope=\"col\"> </th>\n\t\t\t<th scope=\"col\"> </th>\n\t\t</tr></thead>\n<tbody>\n<tr>\n<td>nagios</td>\n\t\t\t<td> </td>\n\t\t</tr>\n<tr>\n<td>scout</td>\n\t\t\t<td> </td>\n\t\t</tr>\n<tr>\n<td>newrelic</td>\n\t\t\t<td> </td>\n\t\t</tr>\n<tr>\n<td>pagerduty</td>\n\t\t\t<td> </td>\n\t\t</tr>\n<tr>\n<td>loader.io</td>\n\t\t\t<td> </td>\n\t\t</tr>\n<tr>\n<td>hubot</td>\n\t\t\t<td> </td>\n\t\t</tr>\n<tr>\n<td> </td>\n\t\t\t<td> </td>\n\t\t</tr>\n<tr>\n<td> </td>\n\t\t\t<td> </td>\n\t\t</tr>\n<tr>\n<td> </td>\n\t\t\t<td> </td>\n\t\t</tr>\n</tbody>\n</table>"
        }
      ],
      "metadata": {
      }
    }
  ]
}