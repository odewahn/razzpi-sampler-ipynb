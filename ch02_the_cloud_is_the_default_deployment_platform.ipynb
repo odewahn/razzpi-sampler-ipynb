{
  "metadata": {
    "name": "The cloud is the default deployment platform."
  },
  "nbformat": 3,
  "nbformat_minor": 0,
  "worksheets": [
    {
      "cells": [
        {
          "cell_type": "heading",
          "level": 1,
          "metadata": {
          },
          "source": "The cloud is the default deployment platform."
        },
        {
          "cell_type": "markdown",
          "metadata": {
          },
          "source": "The accelerating transition to cloud-based platforms, and platforms as a service (PaaS) in general, is one of the main drivers of the devops trend.  Organizations have adopted these services for any of a number of reasons:"
        },
        {
          "cell_type": "markdown",
          "metadata": {
          },
          "source": "<ul>\n<li>Cost savings</li>\n\t<li>Increased speed for launching new projects</li>\n\t<li>Scalability</li>\n</ul>\n"
        },
        {
          "cell_type": "markdown",
          "metadata": {
          },
          "source": "Whatever the reasons, the modern deployment process has become increasingly focused around transient, virtual platforms, rather than the traditional servers maintained by an internal IT group.  And, even in cases where the virtualization/PaaS solution **is** maintained in an internal cloud, the net effect is much the same: the target is a transient server with an ever changing list of dependencies, backing services, and components specific to your particular application stack."
        },
        {
          "cell_type": "markdown",
          "metadata": {
          },
          "source": "This section is divided into three big parts:"
        },
        {
          "cell_type": "markdown",
          "metadata": {
          },
          "source": "<ul>\n<li>Traditional cloud providers.  These allow you to quickly create storage or computing power as needed.</li>\n\t<li>Hosted PaaS services.  These are value added services built on top of raw hosting providers.  For example, a PaaS might allow you to easily spin up a machin based on a particular stack when you deploy you application.</li>\n\t<li>Internal cloud and PaaS services.   </li>\n</ul>\n"
        },
        {
          "cell_type": "markdown",
          "metadata": {
          },
          "source": " "
        },
        {
          "cell_type": "heading",
          "level": 2,
          "metadata": {
          },
          "source": "Traditional Cloud Providers"
        },
        {
          "cell_type": "markdown",
          "metadata": {
          },
          "source": "There are lots of hosting services.  Here are some of the more popular."
        },
        {
          "cell_type": "markdown",
          "metadata": {
          },
          "source": "<table border=\"1\" cellpadding=\"1\" cellspacing=\"1\" style=\"width: 95%;\">\n<thead><tr>\n<th scope=\"col\"> </th>\n\t\t\t<th scope=\"col\"> </th>\n\t\t</tr></thead>\n<tbody>\n<tr>\n<td><a data-original-title=\"\" href=\"http://aws.amazon.com/\" title=\"\">Amazon Web Services</a></td>\n\t\t\t<td>\n\t\t\t<p>AWS is probably the original model for pay as you go infrastructure, and remains one of the leading cloud platforms. While many people think of AWS as either storage (via the <a data-original-title=\"\" href=\"http://aws.amazon.com/s3/\" title=\"\">S3 service</a>) or compute power (via <a href=\"http://aws.amazon.com/ec2/\">EC2</a>), it is composed or a broad suite of services, such as:</p>\n\n\t\t\t<ul>\n<li>\n<a href=\"http://aws.amazon.com/rds/\">RDS</a>, a hosted database solution</li>\n\t\t\t\t<li>\n<a data-original-title=\"\" href=\"http://aws.amazon.com/opsworks/\" style=\"font-size: 0.9em; line-height: 1.5em;\" title=\"\">AWS Opsworks</a> integrates chef directly into the provisioning process, simplifying the need to maintain your own chef infrastructure.</li>\n\t\t\t\t<li>\n<a href=\"http://aws.amazon.com/redshift/\">Redshift</a> for data warehousing and analytics</li>\n\t\t\t</ul>\n</td>\n\t\t</tr>\n<tr>\n<td><a data-original-title=\"\" href=\"https://www.digitalocean.com/\" title=\"\">Digital Ocean</a></td>\n\t\t\t<td> </td>\n\t\t</tr>\n<tr>\n<td><a data-original-title=\"\" href=\"https://mycloud.rackspace.com/\" title=\"\">Rackspace cloud</a></td>\n\t\t\t<td> </td>\n\t\t</tr>\n<tr>\n<td><a data-original-title=\"\" href=\"http://www.windowsazure.com/\" title=\"\">Azure</a></td>\n\t\t\t<td> </td>\n\t\t</tr>\n</tbody>\n</table>\n"
        },
        {
          "cell_type": "markdown",
          "metadata": {
          },
          "source": " "
        },
        {
          "cell_type": "heading",
          "level": 2,
          "metadata": {
          },
          "source": "Hosted PaaS"
        },
        {
          "cell_type": "markdown",
          "metadata": {
          },
          "source": "Hosted PaaS services add a layer on top of the raw offerings of hosting providers.  "
        },
        {
          "cell_type": "markdown",
          "metadata": {
          },
          "source": "<table border=\"1\" cellpadding=\"1\" cellspacing=\"1\" style=\"width: 95%;\">\n<thead><tr>\n<th scope=\"col\"> </th>\n\t\t\t<th scope=\"col\"> </th>\n\t\t</tr></thead>\n<tbody><tr>\n<td><a href=\"https://www.heroku.com/\">Heroku</a></td>\n\t\t\t<td>A PaaS service built on top of AWS.  Unlike AWS, which gives you a raw machine, Heroku allows the devloper to push an application into the service and have a corresponding application stack provision for the machine.</td>\n\t\t</tr></tbody>\n</table>"
        },
        {
          "cell_type": "markdown",
          "metadata": {
          },
          "source": " "
        },
        {
          "cell_type": "heading",
          "level": 2,
          "metadata": {
          },
          "source": "Internal Services"
        },
        {
          "cell_type": "markdown",
          "metadata": {
          },
          "source": "These are tools that create virtual internal clouds (i.e., on premise).  While they’re technically running in your own internal datacenter, they enable the concept of scalable,  on-demand resources.  "
        },
        {
          "cell_type": "markdown",
          "metadata": {
          },
          "source": " "
        },
        {
          "cell_type": "markdown",
          "metadata": {
          },
          "source": "<table border=\"1\" cellpadding=\"1\" cellspacing=\"1\" style=\"width: 95%;\">\n<thead><tr>\n<th scope=\"col\"> </th>\n\t\t\t<th scope=\"col\"> </th>\n\t\t</tr></thead>\n<tbody>\n<tr>\n<td>Open Stack</td>\n\t\t\t<td> </td>\n\t\t</tr>\n<tr>\n<td>VMWare</td>\n\t\t\t<td> </td>\n\t\t</tr>\n<tr>\n<td>Docker</td>\n\t\t\t<td> </td>\n\t\t</tr>\n<tr>\n<td> </td>\n\t\t\t<td> </td>\n\t\t</tr>\n</tbody>\n</table>\n"
        },
        {
          "cell_type": "markdown",
          "metadata": {
          },
          "source": " "
        },
        {
          "cell_type": "markdown",
          "metadata": {
          },
          "source": " "
        }
      ],
      "metadata": {
      }
    }
  ]
}