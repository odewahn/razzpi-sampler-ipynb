{
  "metadata": {
    "name": "Codebase stored in a distributed version control system (probably git) with hooks to external services."
  },
  "nbformat": 3,
  "nbformat_minor": 0,
  "worksheets": [
    {
      "cells": [
        {
          "cell_type": "heading",
          "level": 1,
          "metadata": {
          },
          "source": "Codebase stored in a distributed version control system (probably git) with hooks to external services."
        },
        {
          "cell_type": "markdown",
          "metadata": {
          },
          "source": "The version control system is the heart of the new development process. At the most basic level, a VCS allows developers to keep track of all the changes made to a set of files and be able to roll back to specific points in time in case something screws up. In some systems, like [Subversion](http://subversion.apache.org/), the code is checked out and then checked back in from a central repository. If there is a conflict between two developers’ files (for example, both of them edited the same line of code), then the two version must be merged together. This can be a painful process."
        },
        {
          "cell_type": "markdown",
          "metadata": {
          },
          "source": "In contrast, distributed version control systems (DVCS), like [git](http://git-scm.com/), are the heart of most new style development processes. Rather than having a central, master copy that makes it difficult and expensive to merge a lot of contributions from developers, a DVCS makes it simple (well, simpler!) to have multiple people all working on the same codebase simultaneously in different _branches_, and that these branches can be easily merged back together in a _master_ branch."
        },
        {
          "cell_type": "markdown",
          "metadata": {
          },
          "source": "While there are many different work styles, such as [git flow](http://nvie.com/posts/a-successful-git-branching-model/), the basic DVCS process is:"
        },
        {
          "cell_type": "markdown",
          "metadata": {
          },
          "source": "<ul>\n<li>there is an agreed upon master repository, which is often on a public service like <a href=\"https://github.com/\">GitHub</a>, <a data-original-title=\"\" href=\"https://bitbucket.org/\" title=\"\">BitBucket</a> or an internal server like <a data-original-title=\"\" href=\"https://www.gitlab.com/\" title=\"\">GitLab</a> or <a href=\"http://mercurial.selenic.com/\">Mercurial</a>\n</li>\n\t<li>each developer clones the master repository to his or her local machine</li>\n\t<li>the developer creates a new branch, usually for a specific feature</li>\n\t<li>the developer makes commits against the local copy</li>\n\t<li>once the feature is done, he or she merges the branch back into the master branch and pushes the change back to the master</li>\n\t<li>other developers pull from the and merge their branch</li>\n\t<li>the merged copy preserves the full version history of all the distributed copies</li>\n</ul>\n"
        },
        {
          "cell_type": "markdown",
          "metadata": {
          },
          "source": "In addition to these coordination functions, most version control system also offer a feature called a _hook_. A hook is a process that fires once a specific event, like a commit, happens to the repository. Hooks can be defined in the repo itself, but also in the hosting service. For example, GitHub lets you define “service” hooks that are called whenever a specific event occurs. These hooks are the tie-in to the continuous integration (CI server)."
        },
        {
          "cell_type": "markdown",
          "metadata": {
          },
          "source": " "
        },
        {
          "cell_type": "heading",
          "level": 2,
          "metadata": {
          },
          "source": "Version Control System"
        },
        {
          "cell_type": "markdown",
          "metadata": {
          },
          "source": "Here are the key version control systems:"
        },
        {
          "cell_type": "markdown",
          "metadata": {
          },
          "source": "<table border=\"1\" cellpadding=\"1\" cellspacing=\"1\" style=\"width: 95%;\">\n<thead><tr>\n<th scope=\"col\"> </th>\n\t\t\t<th scope=\"col\"> </th>\n\t\t</tr></thead>\n<tbody>\n<tr>\n<td>git</td>\n\t\t\t<td> </td>\n\t\t</tr>\n<tr>\n<td>mercurial</td>\n\t\t\t<td> </td>\n\t\t</tr>\n<tr>\n<td>subversion</td>\n\t\t\t<td> </td>\n\t\t</tr>\n<tr>\n<td> </td>\n\t\t\t<td> </td>\n\t\t</tr>\n</tbody>\n</table>"
        },
        {
          "cell_type": "markdown",
          "metadata": {
          },
          "source": " "
        },
        {
          "cell_type": "heading",
          "level": 2,
          "metadata": {
          },
          "source": "Hosting Services"
        },
        {
          "cell_type": "markdown",
          "metadata": {
          },
          "source": "Hosting services provide a central point where you can manage and store all your code repositories.  In addition to raw code storage, they usually offer features like issue tracking, collaborator management, and other process-oriented services.  "
        },
        {
          "cell_type": "heading",
          "level": 3,
          "metadata": {
          },
          "source": "External Hosting Services"
        },
        {
          "cell_type": "markdown",
          "metadata": {
          },
          "source": "These are hosting services managed by a 3rd party.  The pricing model is typically based on a block of repositories for a monthly fee."
        },
        {
          "cell_type": "markdown",
          "metadata": {
          },
          "source": "<table border=\"1\" cellpadding=\"1\" cellspacing=\"1\" style=\"width: 95%;\">\n<thead><tr>\n<th scope=\"col\"> </th>\n\t\t\t<th scope=\"col\"> </th>\n\t\t</tr></thead>\n<tbody>\n<tr>\n<td>GitHub</td>\n\t\t\t<td> </td>\n\t\t</tr>\n<tr>\n<td>BitBucket</td>\n\t\t\t<td> </td>\n\t\t</tr>\n<tr>\n<td>GitLab.com</td>\n\t\t\t<td> </td>\n\t\t</tr>\n<tr>\n<td>Gitorious</td>\n\t\t\t<td> </td>\n\t\t</tr>\n</tbody>\n</table>"
        },
        {
          "cell_type": "heading",
          "level": 3,
          "metadata": {
          },
          "source": "Self Hosted Solutions"
        },
        {
          "cell_type": "markdown",
          "metadata": {
          },
          "source": "These are services that you can install and manage in your own environment."
        },
        {
          "cell_type": "markdown",
          "metadata": {
          },
          "source": "<table border=\"1\" cellpadding=\"1\" cellspacing=\"1\" style=\"width: 95%;\">\n<thead><tr>\n<th scope=\"col\"> </th>\n\t\t\t<th scope=\"col\"> </th>\n\t\t</tr></thead>\n<tbody>\n<tr>\n<td>GitLab</td>\n\t\t\t<td> </td>\n\t\t</tr>\n<tr>\n<td>Gitosis</td>\n\t\t\t<td> </td>\n\t\t</tr>\n<tr>\n<td> </td>\n\t\t\t<td> </td>\n\t\t</tr>\n<tr>\n<td> </td>\n\t\t\t<td> </td>\n\t\t</tr>\n</tbody>\n</table>\n"
        },
        {
          "cell_type": "markdown",
          "metadata": {
          },
          "source": " "
        },
        {
          "cell_type": "markdown",
          "metadata": {
          },
          "source": " "
        },
        {
          "cell_type": "markdown",
          "metadata": {
          },
          "source": " "
        }
      ],
      "metadata": {
      }
    }
  ]
}