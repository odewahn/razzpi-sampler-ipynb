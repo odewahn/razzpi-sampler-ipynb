{
  "metadata": {
    "name": "Use continuous integration (CI) to reduce your overall project risk profile."
  },
  "nbformat": 3,
  "nbformat_minor": 0,
  "worksheets": [
    {
      "cells": [
        {
          "cell_type": "heading",
          "level": 1,
          "metadata": {
          },
          "source": "Use continuous integration (CI) to reduce your overall project risk profile."
        },
        {
          "cell_type": "markdown",
          "metadata": {
          },
          "source": "Software legend Martin Fowler defines [continuous deployment](http://www.martinfowler.com/articles/continuousIntegration.html) as “a software development practice where members of a team integrate their work frequently, usually each person integrates at least daily - leading to multiple integrations per day.” Fowler’s seminal article defines the key best practices as:"
        },
        {
          "cell_type": "markdown",
          "metadata": {
          },
          "source": "<ul>\n<li>Maintain a Single Source Repository.</li>\n\t<li>Automate the Build</li>\n\t<li>Make Your Build Self-Testing</li>\n\t<li>Everyone Commits To the Mainline Every Day</li>\n\t<li>Every Commit Should Build the Mainline on an Integration Machine</li>\n\t<li>Keep the Build Fast</li>\n\t<li>Test in a Clone of the Production Environment</li>\n\t<li>Make it Easy for Anyone to Get the Latest Executable</li>\n\t<li>Everyone can see what’s happening</li>\n\t<li>Automate Deployment</li>\n</ul>\n"
        },
        {
          "cell_type": "markdown",
          "metadata": {
          },
          "source": "While there are many technical benefits to this process, perhaps the key business benefit is an overall reduction in the risk profile for a project. Risk might include things like changes in the market condition, lack of user feedback, and a host of other hard and soft factors. Entrepreneur Lukas Fittl shows the process effect of CI as a [sawtooth curve](http://www.slideshare.net/lfittl/we-built-itandtheydidntcome) that minimizes risk through frequent deploys:"
        },
        {
          "cell_type": "markdown",
          "metadata": {
          },
          "source": "![images/ci_risk_profile.png](images/ci_risk_profile.png)"
        }
      ],
      "metadata": {
      }
    }
  ]
}