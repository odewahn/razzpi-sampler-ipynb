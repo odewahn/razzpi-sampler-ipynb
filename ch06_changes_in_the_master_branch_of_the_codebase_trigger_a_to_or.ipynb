{
  "metadata": {
    "name": "Changes in the master branch of the codebase trigger a continuous integration server to deploy code or perform tests."
  },
  "nbformat": 3,
  "nbformat_minor": 0,
  "worksheets": [
    {
      "cells": [
        {
          "cell_type": "heading",
          "level": 1,
          "metadata": {
          },
          "source": "Changes in the master branch of the codebase trigger a continuous integration server to deploy code or perform tests."
        },
        {
          "cell_type": "markdown",
          "metadata": {
          },
          "source": "The CI server’s executes a specific action on a repository whenever it receives a commit hook. For example, is a developer makes a commit against repository called foo, the CI server might:"
        },
        {
          "cell_type": "markdown",
          "metadata": {
          },
          "source": "<ul>\n<li>clone down a local copy of foo</li>\n\t<li>execute foo’s test suites (see the section on application stacks  for more about this)</li>\n\t<li>if the tests fail, the CI server sends an alert to the development team and halts the process</li>\n\t<li>if the test suite passes, the CI server might deploy the code to a staging or even production server</li>\n</ul>\n"
        },
        {
          "cell_type": "markdown",
          "metadata": {
          },
          "source": " "
        },
        {
          "cell_type": "markdown",
          "metadata": {
          },
          "source": "<table border=\"1\" cellpadding=\"1\" cellspacing=\"1\" style=\"width: 95%;\">\n<thead><tr>\n<th scope=\"col\">Tool</th>\n\t\t\t<th scope=\"col\">Description</th>\n\t\t</tr></thead>\n<tbody>\n<tr>\n<td><a data-original-title=\"\" href=\"http://jenkins-ci.org/\" title=\"\">Jenkins</a></td>\n\t\t\t<td>Jenkins is one of the leading open source CI servers.  It has a host of useful plugins for build tasks. </td>\n\t\t</tr>\n<tr>\n<td><a href=\"https://travis-ci.org/\">Travis</a></td>\n\t\t\t<td>Travis is a hosted CI solution.  It works really nicely with Rails</td>\n\t\t</tr>\n<tr>\n<td> </td>\n\t\t\t<td> </td>\n\t\t</tr>\n<tr>\n<td> </td>\n\t\t\t<td> </td>\n\t\t</tr>\n</tbody>\n</table>\n"
        },
        {
          "cell_type": "markdown",
          "metadata": {
          },
          "source": " "
        }
      ],
      "metadata": {
      }
    }
  ]
}