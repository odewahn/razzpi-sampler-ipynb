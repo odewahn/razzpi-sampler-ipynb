{
  "metadata": {
    "name": "The entire application running on a local development environment that matches production."
  },
  "nbformat": 3,
  "nbformat_minor": 0,
  "worksheets": [
    {
      "cells": [
        {
          "cell_type": "heading",
          "level": 1,
          "metadata": {
          },
          "source": "The entire application running on a local development environment that matches production."
        },
        {
          "cell_type": "markdown",
          "metadata": {
          },
          "source": "One of the key breakthroughs of the devops movement is is gives developers a simple way to install and run the entire app on their local machine. Being able to run it on their own system encourages creativity and flexibility, and make development much more fun and productive."
        },
        {
          "cell_type": "markdown",
          "metadata": {
          },
          "source": "[Vagrant](http://www.vagrantup.com/) is the key tool here -- basically, it takes the recipes you created with your environment tool (i.e., your chef or puppet files) and _provisions_ (creates) a virtual machine that runs in a tool like [Virtualbox](https://www.virtualbox.org/) or [VMWare](http://www.vmware.com/ \"\"). Vagrant automatically maps a virtual drive from the virtual instance back to the host machine, allowing the developer to use his or her favorite editor / IDE, but still run the application in an environment that matches the production environment as closely as possible."
        },
        {
          "cell_type": "markdown",
          "metadata": {
          },
          "source": " "
        },
        {
          "cell_type": "markdown",
          "metadata": {
          },
          "source": "<table border=\"1\" cellpadding=\"1\" cellspacing=\"1\" style=\"width: 95%;\">\n<thead><tr>\n<th scope=\"col\"> </th>\n\t\t\t<th scope=\"col\"> </th>\n\t\t</tr></thead>\n<tbody>\n<tr>\n<td>vagrant</td>\n\t\t\t<td> </td>\n\t\t</tr>\n<tr>\n<td>virtualbox</td>\n\t\t\t<td> </td>\n\t\t</tr>\n<tr>\n<td>vmware</td>\n\t\t\t<td> </td>\n\t\t</tr>\n<tr>\n<td> </td>\n\t\t\t<td> </td>\n\t\t</tr>\n</tbody>\n</table>\n"
        },
        {
          "cell_type": "markdown",
          "metadata": {
          },
          "source": " "
        },
        {
          "cell_type": "markdown",
          "metadata": {
          },
          "source": " "
        },
        {
          "cell_type": "heading",
          "level": 2,
          "metadata": {
          },
          "source": "Replicating 3rd party APIs locally"
        },
        {
          "cell_type": "markdown",
          "metadata": {
          },
          "source": " "
        },
        {
          "cell_type": "markdown",
          "metadata": {
          },
          "source": "The develop “everything on localhost” approach breaks down somewhat when an application makes extensive use of 3rd party APIs.   Clearly, you could not siply install Twitter or Facebook on your local machine.  To get around this, there are a number of tools for mocking up the API results returned by these services.  These include:"
        },
        {
          "cell_type": "markdown",
          "metadata": {
          },
          "source": " "
        },
        {
          "cell_type": "markdown",
          "metadata": {
          },
          "source": "<table border=\"1\" cellpadding=\"1\" cellspacing=\"1\" style=\"width: 95%;\">\n<thead><tr>\n<th scope=\"col\"> </th>\n\t\t\t<th scope=\"col\"> </th>\n\t\t</tr></thead>\n<tbody>\n<tr>\n<td><a data-original-title=\"\" href=\"https://github.com/sideshowcoder/canned\" title=\"\">canned</a></td>\n\t\t\t<td> </td>\n\t\t</tr>\n<tr>\n<td> </td>\n\t\t\t<td> </td>\n\t\t</tr>\n<tr>\n<td> </td>\n\t\t\t<td> </td>\n\t\t</tr>\n<tr>\n<td> </td>\n\t\t\t<td> </td>\n\t\t</tr>\n</tbody>\n</table>"
        }
      ],
      "metadata": {
      }
    }
  ]
}